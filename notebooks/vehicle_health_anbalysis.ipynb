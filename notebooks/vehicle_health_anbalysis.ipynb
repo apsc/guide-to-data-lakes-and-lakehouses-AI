{
 "cells": [
  {
   "cell_type": "code",
   "execution_count": 1,
   "metadata": {},
   "outputs": [
    {
     "name": "stdout",
     "output_type": "stream",
     "text": [
      "Requirement already satisfied: dremio-simple-query in /usr/local/python/3.12.1/lib/python3.12/site-packages (0.0.4)\n",
      "Requirement already satisfied: duckdb>=0.9.2 in /usr/local/python/3.12.1/lib/python3.12/site-packages (from dremio-simple-query) (1.2.0)\n",
      "Requirement already satisfied: pyarrow>=14.0.2 in /usr/local/python/3.12.1/lib/python3.12/site-packages (from dremio-simple-query) (19.0.1)\n",
      "Requirement already satisfied: requests>=2.28.2 in /home/codespace/.local/lib/python3.12/site-packages (from dremio-simple-query) (2.32.3)\n",
      "Requirement already satisfied: polars>=0.20.5 in /usr/local/python/3.12.1/lib/python3.12/site-packages (from dremio-simple-query) (1.23.0)\n",
      "Requirement already satisfied: pandas>=2.1.4 in /home/codespace/.local/lib/python3.12/site-packages (from dremio-simple-query) (2.2.3)\n",
      "Requirement already satisfied: numpy>=1.26.0 in /home/codespace/.local/lib/python3.12/site-packages (from pandas>=2.1.4->dremio-simple-query) (2.2.0)\n",
      "Requirement already satisfied: python-dateutil>=2.8.2 in /home/codespace/.local/lib/python3.12/site-packages (from pandas>=2.1.4->dremio-simple-query) (2.9.0.post0)\n",
      "Requirement already satisfied: pytz>=2020.1 in /home/codespace/.local/lib/python3.12/site-packages (from pandas>=2.1.4->dremio-simple-query) (2025.1)\n",
      "Requirement already satisfied: tzdata>=2022.7 in /home/codespace/.local/lib/python3.12/site-packages (from pandas>=2.1.4->dremio-simple-query) (2024.2)\n",
      "Requirement already satisfied: charset-normalizer<4,>=2 in /home/codespace/.local/lib/python3.12/site-packages (from requests>=2.28.2->dremio-simple-query) (3.4.1)\n",
      "Requirement already satisfied: idna<4,>=2.5 in /home/codespace/.local/lib/python3.12/site-packages (from requests>=2.28.2->dremio-simple-query) (3.10)\n",
      "Requirement already satisfied: urllib3<3,>=1.21.1 in /home/codespace/.local/lib/python3.12/site-packages (from requests>=2.28.2->dremio-simple-query) (2.3.0)\n",
      "Requirement already satisfied: certifi>=2017.4.17 in /home/codespace/.local/lib/python3.12/site-packages (from requests>=2.28.2->dremio-simple-query) (2024.8.30)\n",
      "Requirement already satisfied: six>=1.5 in /home/codespace/.local/lib/python3.12/site-packages (from python-dateutil>=2.8.2->pandas>=2.1.4->dremio-simple-query) (1.17.0)\n",
      "Note: you may need to restart the kernel to use updated packages.\n"
     ]
    }
   ],
   "source": [
    "%pip install dremio-simple-query"
   ]
  },
  {
   "cell_type": "code",
   "execution_count": 5,
   "metadata": {},
   "outputs": [],
   "source": [
    "from dremio_simple_query.connect import get_token\n",
    "\n",
    "## URL to Login Endpoint\n",
    "login_endpoint = \"http://172.18.0.5:9047/apiv2/login\"\n",
    "\n",
    "## Payload for Login\n",
    "## Update with your Dremio credentials\n",
    "\n",
    "payload = {\n",
    "  \"userName\": \"dremel\",\n",
    "  \"password\": \"minioadmin1\"\n",
    "}\n",
    "\n",
    "token = get_token(uri = login_endpoint, payload=payload)"
   ]
  },
  {
   "cell_type": "code",
   "execution_count": 6,
   "metadata": {},
   "outputs": [
    {
     "data": {
      "text/html": [
       "<div>\n",
       "<style scoped>\n",
       "    .dataframe tbody tr th:only-of-type {\n",
       "        vertical-align: middle;\n",
       "    }\n",
       "\n",
       "    .dataframe tbody tr th {\n",
       "        vertical-align: top;\n",
       "    }\n",
       "\n",
       "    .dataframe thead th {\n",
       "        text-align: right;\n",
       "    }\n",
       "</style>\n",
       "<table border=\"1\" class=\"dataframe\">\n",
       "  <thead>\n",
       "    <tr style=\"text-align: right;\">\n",
       "      <th></th>\n",
       "      <th>VehicleID</th>\n",
       "      <th>Model</th>\n",
       "      <th>ManufacturingYear</th>\n",
       "      <th>Alerts</th>\n",
       "      <th>MaintenanceHistory</th>\n",
       "    </tr>\n",
       "  </thead>\n",
       "  <tbody>\n",
       "    <tr>\n",
       "      <th>0</th>\n",
       "      <td>VEH20442</td>\n",
       "      <td>AeroFlow</td>\n",
       "      <td>2021</td>\n",
       "      <td>[{'AlertID': 'ALERT8942', 'Date': '2021-01-25'...</td>\n",
       "      <td>[{'Date': '2023-05-10', 'Details': {'BatteryHe...</td>\n",
       "    </tr>\n",
       "    <tr>\n",
       "      <th>1</th>\n",
       "      <td>VEH23016</td>\n",
       "      <td>AeroFlow</td>\n",
       "      <td>2024</td>\n",
       "      <td>[{'AlertID': 'ALERT7020', 'Date': '2020-05-08'...</td>\n",
       "      <td>[{'Date': '2022-12-05', 'Details': {'BatteryHe...</td>\n",
       "    </tr>\n",
       "    <tr>\n",
       "      <th>2</th>\n",
       "      <td>VEH67132</td>\n",
       "      <td>AeroFlow</td>\n",
       "      <td>2023</td>\n",
       "      <td>[{'AlertID': 'ALERT5049', 'Date': '2022-02-06'...</td>\n",
       "      <td>[{'Date': '2023-05-16', 'Details': {'BatteryHe...</td>\n",
       "    </tr>\n",
       "    <tr>\n",
       "      <th>3</th>\n",
       "      <td>VEH31263</td>\n",
       "      <td>EcoSprint</td>\n",
       "      <td>2022</td>\n",
       "      <td>[{'AlertID': 'ALERT9173', 'Date': '2021-08-25'...</td>\n",
       "      <td>[{'Date': '2024-06-18', 'Details': {'BatteryHe...</td>\n",
       "    </tr>\n",
       "    <tr>\n",
       "      <th>4</th>\n",
       "      <td>VEH62953</td>\n",
       "      <td>UrbanGlide</td>\n",
       "      <td>2022</td>\n",
       "      <td>[{'AlertID': 'ALERT8582', 'Date': '2020-02-18'...</td>\n",
       "      <td>[{'Date': '2022-11-21', 'Details': {'BatteryHe...</td>\n",
       "    </tr>\n",
       "  </tbody>\n",
       "</table>\n",
       "</div>"
      ],
      "text/plain": [
       "  VehicleID  ...                                 MaintenanceHistory\n",
       "0  VEH20442  ...  [{'Date': '2023-05-10', 'Details': {'BatteryHe...\n",
       "1  VEH23016  ...  [{'Date': '2022-12-05', 'Details': {'BatteryHe...\n",
       "2  VEH67132  ...  [{'Date': '2023-05-16', 'Details': {'BatteryHe...\n",
       "3  VEH31263  ...  [{'Date': '2024-06-18', 'Details': {'BatteryHe...\n",
       "4  VEH62953  ...  [{'Date': '2022-11-21', 'Details': {'BatteryHe...\n",
       "\n",
       "[5 rows x 5 columns]"
      ]
     },
     "execution_count": 6,
     "metadata": {},
     "output_type": "execute_result"
    }
   ],
   "source": [
    "from pyarrow import flight\n",
    "\n",
    "# Connect to Dremio using Flight\n",
    "client = flight.FlightClient(f\"grpc+tcp://172.18.0.5:32010\")\n",
    "\n",
    "# Authenticate\n",
    "headers = [\n",
    "  (b'authorization', f\"bearer {token}\".encode('utf-8'))\n",
    "]\n",
    "\n",
    "# Query to get all product reviews\n",
    "sql = \"SELECT * FROM catalog.silver.vehicle_health_logs\"\n",
    "\n",
    "# Create a Flight descriptor\n",
    "descriptor = flight.FlightDescriptor.for_command(sql)\n",
    "\n",
    "# Perform the query using call_options to include headers\n",
    "options = flight.FlightCallOptions(headers=headers)\n",
    "flight_info = client.get_flight_info(descriptor, options=options)\n",
    "reader = client.do_get(flight_info.endpoints[0].ticket, options=options)\n",
    "\n",
    "# Convert to Pandas DF\n",
    "vehicle_health_logs = reader.read_pandas()\n",
    "\n",
    "# Display the dataframe\n",
    "vehicle_health_logs.head()"
   ]
  },
  {
   "cell_type": "code",
   "execution_count": null,
   "metadata": {},
   "outputs": [],
   "source": []
  }
 ],
 "metadata": {
  "kernelspec": {
   "display_name": "Python 3",
   "language": "python",
   "name": "python3"
  },
  "language_info": {
   "codemirror_mode": {
    "name": "ipython",
    "version": 3
   },
   "file_extension": ".py",
   "mimetype": "text/x-python",
   "name": "python",
   "nbconvert_exporter": "python",
   "pygments_lexer": "ipython3",
   "version": "3.12.1"
  }
 },
 "nbformat": 4,
 "nbformat_minor": 2
}
